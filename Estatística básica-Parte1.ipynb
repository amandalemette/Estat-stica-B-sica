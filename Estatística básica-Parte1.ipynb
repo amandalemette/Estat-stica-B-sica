{
 "cells": [
  {
   "cell_type": "markdown",
   "metadata": {},
   "source": [
    "# Estatística Básica Parte I - Média, Mediana e Moda"
   ]
  },
  {
   "cell_type": "code",
   "execution_count": 1,
   "metadata": {},
   "outputs": [],
   "source": [
    "import numpy as np\n",
    "import matplotlib.pyplot as plt\n",
    "%matplotlib inline"
   ]
  },
  {
   "cell_type": "code",
   "execution_count": 2,
   "metadata": {},
   "outputs": [],
   "source": [
    "np.random.seed(0)"
   ]
  },
  {
   "cell_type": "code",
   "execution_count": 3,
   "metadata": {},
   "outputs": [],
   "source": [
    "vet = np.random.randint(0,high = 5,size = 250)"
   ]
  },
  {
   "cell_type": "code",
   "execution_count": 4,
   "metadata": {},
   "outputs": [
    {
     "data": {
      "text/plain": [
       "array([4, 0, 3, 3, 3, 1, 3, 2, 4, 0, 0, 4, 2, 1, 0, 1, 1, 0, 1, 4, 3, 0,\n",
       "       3, 0, 2, 3, 0, 1, 3, 3, 3, 0, 1, 1, 1, 0, 2, 4, 3, 3, 2, 4, 2, 0,\n",
       "       0, 4, 0, 4, 1, 4, 1, 2, 2, 0, 1, 1, 1, 1, 3, 3, 2, 3, 0, 3, 4, 1,\n",
       "       2, 4, 3, 4, 4, 4, 3, 4, 4, 4, 0, 4, 3, 2, 0, 1, 1, 3, 0, 0, 1, 2,\n",
       "       4, 2, 0, 3, 2, 2, 0, 1, 0, 2, 2, 3, 2, 3, 2, 1, 2, 3, 3, 3, 2, 3,\n",
       "       4, 1, 2, 3, 1, 2, 1, 4, 2, 3, 0, 3, 2, 3, 0, 0, 0, 3, 2, 3, 0, 4,\n",
       "       0, 0, 2, 3, 2, 3, 0, 0, 0, 3, 0, 2, 2, 0, 4, 3, 4, 0, 4, 3, 3, 4,\n",
       "       1, 3, 0, 0, 0, 1, 0, 4, 1, 3, 1, 0, 0, 4, 3, 3, 1, 0, 0, 1, 2, 0,\n",
       "       3, 1, 1, 4, 0, 0, 3, 2, 3, 2, 4, 3, 3, 0, 3, 0, 4, 2, 3, 4, 0, 2,\n",
       "       3, 3, 1, 3, 4, 3, 3, 1, 1, 1, 3, 2, 2, 4, 3, 1, 2, 3, 1, 4, 2, 2,\n",
       "       0, 1, 0, 4, 0, 3, 2, 0, 0, 1, 1, 0, 3, 0, 3, 0, 4, 4, 0, 1, 3, 4,\n",
       "       3, 2, 1, 1, 2, 1, 4, 2])"
      ]
     },
     "execution_count": 4,
     "metadata": {},
     "output_type": "execute_result"
    }
   ],
   "source": [
    "vet"
   ]
  },
  {
   "cell_type": "code",
   "execution_count": 5,
   "metadata": {},
   "outputs": [
    {
     "data": {
      "image/png": "[encoded data removed]",
      "text/plain": [
       "<Figure size 432x288 with 1 Axes>"
      ]
     },
     "metadata": {
      "needs_background": "light"
     },
     "output_type": "display_data"
    }
   ],
   "source": [
    "bins_list = [0,1,2,3,4,5]\n",
    "plt.hist(vet,facecolor = 'salmon',edgecolor = 'red',bins = bins_list)\n",
    "plt.xlabel('Crianças por apartamento',fontsize = 14)\n",
    "plt.savefig('histogramacriancas.png', transparent = True)"
   ]
  },
  {
   "cell_type": "code",
   "execution_count": 6,
   "metadata": {},
   "outputs": [
    {
     "data": {
      "text/plain": [
       "array([58, 45, 44, 63, 40])"
      ]
     },
     "execution_count": 6,
     "metadata": {},
     "output_type": "execute_result"
    }
   ],
   "source": [
    "num = np.bincount(vet)\n",
    "num"
   ]
  },
  {
   "cell_type": "code",
   "execution_count": 7,
   "metadata": {},
   "outputs": [
    {
     "data": {
      "image/png": "[encoded data removed]",
      "text/plain": [
       "<Figure size 432x288 with 1 Axes>"
      ]
     },
     "metadata": {
      "needs_background": "light"
     },
     "output_type": "display_data"
    }
   ],
   "source": [
    "bins_list = [0,1,2,3,4]\n",
    "plt.bar(bins_list,num,facecolor = 'salmon',edgecolor = 'red',align = 'center',width = 1)\n",
    "plt.xlabel('Crianças por apartamento',fontsize = 14)\n",
    "plt.savefig('histogramacriancas.png', transparent = True)"
   ]
  },
  {
   "cell_type": "markdown",
   "metadata": {},
   "source": [
    "- média:"
   ]
  },
  {
   "cell_type": "code",
   "execution_count": 8,
   "metadata": {},
   "outputs": [
    {
     "data": {
      "text/plain": [
       "1.928"
      ]
     },
     "execution_count": 8,
     "metadata": {},
     "output_type": "execute_result"
    }
   ],
   "source": [
    "np.mean(vet)"
   ]
  },
  {
   "cell_type": "markdown",
   "metadata": {},
   "source": [
    "- mediana:"
   ]
  },
  {
   "cell_type": "code",
   "execution_count": 9,
   "metadata": {},
   "outputs": [
    {
     "data": {
      "text/plain": [
       "2.0"
      ]
     },
     "execution_count": 9,
     "metadata": {},
     "output_type": "execute_result"
    }
   ],
   "source": [
    "np.median(vet)"
   ]
  },
  {
   "cell_type": "code",
   "execution_count": 10,
   "metadata": {},
   "outputs": [
    {
     "data": {
      "text/plain": [
       "array([      4,       0,       3,       3,       3,       1,       3,\n",
       "             2,       4,       0,       0,       4,       2,       1,\n",
       "             0,       1,       1,       0,       1,       4,       3,\n",
       "             0,       3,       0,       2,       3,       0,       1,\n",
       "             3,       3,       3,       0,       1,       1,       1,\n",
       "             0,       2,       4,       3,       3,       2,       4,\n",
       "             2,       0,       0,       4,       0,       4,       1,\n",
       "             4,       1,       2,       2,       0,       1,       1,\n",
       "             1,       1,       3,       3,       2,       3,       0,\n",
       "             3,       4,       1,       2,       4,       3,       4,\n",
       "             4,       4,       3,       4,       4,       4,       0,\n",
       "             4,       3,       2,       0,       1,       1,       3,\n",
       "             0,       0,       1,       2,       4,       2,       0,\n",
       "             3,       2,       2,       0,       1,       0,       2,\n",
       "             2,       3,       2,       3,       2,       1,       2,\n",
       "             3,       3,       3,       2,       3,       4,       1,\n",
       "             2,       3,       1,       2,       1,       4,       2,\n",
       "             3,       0,       3,       2,       3,       0,       0,\n",
       "             0,       3,       2,       3,       0,       4,       0,\n",
       "             0,       2,       3,       2,       3,       0,       0,\n",
       "             0,       3,       0,       2,       2,       0,       4,\n",
       "             3,       4,       0,       4,       3,       3,       4,\n",
       "             1,       3,       0,       0,       0,       1,       0,\n",
       "             4,       1,       3,       1,       0,       0,       4,\n",
       "             3,       3,       1,       0,       0,       1,       2,\n",
       "             0,       3,       1,       1,       4,       0,       0,\n",
       "             3,       2,       3,       2,       4,       3,       3,\n",
       "             0,       3,       0,       4,       2,       3,       4,\n",
       "             0,       2,       3,       3,       1,       3,       4,\n",
       "             3,       3,       1,       1,       1,       3,       2,\n",
       "             2,       4,       3,       1,       2,       3,       1,\n",
       "             4,       2,       2,       0,       1,       0,       4,\n",
       "             0,       3,       2,       0,       0,       1,       1,\n",
       "             0,       3,       0,       3,       0,       4,       4,\n",
       "             0,       1,       3,       4,       3,       2,       1,\n",
       "             1,       2,       1,       4,       2, 9800000])"
      ]
     },
     "execution_count": 10,
     "metadata": {},
     "output_type": "execute_result"
    }
   ],
   "source": [
    "vet = np.append(vet,9800000)\n",
    "vet"
   ]
  },
  {
   "cell_type": "code",
   "execution_count": 11,
   "metadata": {},
   "outputs": [
    {
     "data": {
      "text/plain": [
       "39045.745019920316"
      ]
     },
     "execution_count": 11,
     "metadata": {},
     "output_type": "execute_result"
    }
   ],
   "source": [
    "np.mean(vet)"
   ]
  },
  {
   "cell_type": "code",
   "execution_count": 12,
   "metadata": {},
   "outputs": [
    {
     "data": {
      "text/plain": [
       "2.0"
      ]
     },
     "execution_count": 12,
     "metadata": {},
     "output_type": "execute_result"
    }
   ],
   "source": [
    "np.median(vet)"
   ]
  },
  {
   "cell_type": "code",
   "execution_count": 13,
   "metadata": {},
   "outputs": [
    {
     "data": {
      "text/plain": [
       "array([4, 0, 3, 3, 3, 1, 3, 2, 4, 0, 0, 4, 2, 1, 0, 1, 1, 0, 1, 4, 3, 0,\n",
       "       3, 0, 2, 3, 0, 1, 3, 3, 3, 0, 1, 1, 1, 0, 2, 4, 3, 3, 2, 4, 2, 0,\n",
       "       0, 4, 0, 4, 1, 4, 1, 2, 2, 0, 1, 1, 1, 1, 3, 3, 2, 3, 0, 3, 4, 1,\n",
       "       2, 4, 3, 4, 4, 4, 3, 4, 4, 4, 0, 4, 3, 2, 0, 1, 1, 3, 0, 0, 1, 2,\n",
       "       4, 2, 0, 3, 2, 2, 0, 1, 0, 2, 2, 3, 2, 3, 2, 1, 2, 3, 3, 3, 2, 3,\n",
       "       4, 1, 2, 3, 1, 2, 1, 4, 2, 3, 0, 3, 2, 3, 0, 0, 0, 3, 2, 3, 0, 4,\n",
       "       0, 0, 2, 3, 2, 3, 0, 0, 0, 3, 0, 2, 2, 0, 4, 3, 4, 0, 4, 3, 3, 4,\n",
       "       1, 3, 0, 0, 0, 1, 0, 4, 1, 3, 1, 0, 0, 4, 3, 3, 1, 0, 0, 1, 2, 0,\n",
       "       3, 1, 1, 4, 0, 0, 3, 2, 3, 2, 4, 3, 3, 0, 3, 0, 4, 2, 3, 4, 0, 2,\n",
       "       3, 3, 1, 3, 4, 3, 3, 1, 1, 1, 3, 2, 2, 4, 3, 1, 2, 3, 1, 4, 2, 2,\n",
       "       0, 1, 0, 4, 0, 3, 2, 0, 0, 1, 1, 0, 3, 0, 3, 0, 4, 4, 0, 1, 3, 4,\n",
       "       3, 2, 1, 1, 2, 1, 4, 2])"
      ]
     },
     "execution_count": 13,
     "metadata": {},
     "output_type": "execute_result"
    }
   ],
   "source": [
    "vet = np.delete(vet,-1)\n",
    "vet"
   ]
  },
  {
   "cell_type": "code",
   "execution_count": 14,
   "metadata": {},
   "outputs": [
    {
     "data": {
      "text/plain": [
       "array([4, 0, 3, 3, 3, 1, 3, 2, 4, 0, 0, 4, 2, 1, 0, 1, 1, 0, 1, 4, 3, 0,\n",
       "       3, 0, 2, 3, 0, 1, 3, 3, 3, 0, 1, 1, 1, 0, 2, 4, 3, 3, 2, 4, 2, 0,\n",
       "       0, 4, 0, 4, 1, 4, 1, 2, 2, 0, 1, 1, 1, 1, 3, 3, 2, 3, 0, 3, 4, 1,\n",
       "       2, 4, 3, 4, 4, 4, 3, 4, 4, 4, 0, 4, 3, 2, 0, 1, 1, 3, 0, 0, 1, 2,\n",
       "       4, 2, 0, 3, 2, 2, 0, 1, 0, 2, 2, 3, 2, 3, 2, 1, 2, 3, 3, 3, 2, 3,\n",
       "       4, 1, 2, 3, 1, 2, 1, 4, 2, 3, 0, 3, 2, 3, 0, 0, 0, 3, 2, 3, 0, 4,\n",
       "       0, 0, 2, 3, 2, 3, 0, 0, 0, 3, 0, 2, 2, 0, 4, 3, 4, 0, 4, 3, 3, 4,\n",
       "       1, 3, 0, 0, 0, 1, 0, 4, 1, 3, 1, 0, 0, 4, 3, 3, 1, 0, 0, 1, 2, 0,\n",
       "       3, 1, 1, 4, 0, 0, 3, 2, 3, 2, 4, 3, 3, 0, 3, 0, 4, 2, 3, 4, 0, 2,\n",
       "       3, 3, 1, 3, 4, 3, 3, 1, 1, 1, 3, 2, 2, 4, 3, 1, 2, 3, 1, 4, 2, 2,\n",
       "       0, 1, 0, 4, 0, 3, 2, 0, 0, 1, 1, 0, 3, 0, 3, 0, 4, 4, 0, 1, 3, 4,\n",
       "       3, 2, 1, 1, 2, 1, 4, 2, 7])"
      ]
     },
     "execution_count": 14,
     "metadata": {},
     "output_type": "execute_result"
    }
   ],
   "source": [
    "vet = np.append(vet,7)\n",
    "vet"
   ]
  },
  {
   "cell_type": "code",
   "execution_count": 15,
   "metadata": {},
   "outputs": [
    {
     "data": {
      "text/plain": [
       "{'whiskers': [<matplotlib.lines.Line2D at 0x11d795390>,\n",
       "  <matplotlib.lines.Line2D at 0x11d795950>],\n",
       " 'caps': [<matplotlib.lines.Line2D at 0x11d795e50>,\n",
       "  <matplotlib.lines.Line2D at 0x11d78d850>],\n",
       " 'boxes': [<matplotlib.lines.Line2D at 0x11d78d810>],\n",
       " 'medians': [<matplotlib.lines.Line2D at 0x11d6a0950>],\n",
       " 'fliers': [<matplotlib.lines.Line2D at 0x11d6a0dd0>],\n",
       " 'means': []}"
      ]
     },
     "execution_count": 15,
     "metadata": {},
     "output_type": "execute_result"
    },
    {
     "data": {
      "image/png": "[encoded data removed]",
      "text/plain": [
       "<Figure size 432x288 with 1 Axes>"
      ]
     },
     "metadata": {
      "needs_background": "light"
     },
     "output_type": "display_data"
    }
   ],
   "source": [
    "plt.boxplot(vet)"
   ]
  },
  {
   "cell_type": "code",
   "execution_count": 16,
   "metadata": {},
   "outputs": [
    {
     "data": {
      "text/plain": [
       "1.948207171314741"
      ]
     },
     "execution_count": 16,
     "metadata": {},
     "output_type": "execute_result"
    }
   ],
   "source": [
    "np.mean(vet)"
   ]
  },
  {
   "cell_type": "code",
   "execution_count": 17,
   "metadata": {},
   "outputs": [
    {
     "data": {
      "text/plain": [
       "2.0"
      ]
     },
     "execution_count": 17,
     "metadata": {},
     "output_type": "execute_result"
    }
   ],
   "source": [
    "np.median(vet)"
   ]
  },
  {
   "cell_type": "code",
   "execution_count": 18,
   "metadata": {
    "scrolled": true
   },
   "outputs": [
    {
     "data": {
      "text/plain": [
       "array([5, 5, 4, 4, 5, 5, 2, 3, 5, 3, 1, 2, 4, 3, 3, 1, 1, 5, 5, 1, 1, 2,\n",
       "       0, 3, 1, 4, 3, 1, 1, 2, 0, 0, 2, 4, 0, 4, 3, 3, 0, 0, 3, 5, 3, 0,\n",
       "       3, 0, 5, 2, 1, 0, 4, 0, 3, 4, 4, 1, 0, 2, 4, 4, 2, 4, 3, 2, 3, 0,\n",
       "       5, 5, 5, 0, 0, 5, 3, 4, 4, 5, 2, 2, 4, 1, 3, 3, 3, 1, 2, 5, 2, 3,\n",
       "       5, 2, 3, 4, 4, 2, 5, 1, 2, 5, 0, 3, 0, 2, 4, 3, 2, 1, 2, 1, 4, 5,\n",
       "       1, 0, 5, 0, 0, 0, 0, 1, 0, 3, 1, 4, 1, 2, 4, 0, 0, 2, 5, 0, 4, 4,\n",
       "       4, 1, 1, 4, 1, 5, 1, 3, 5, 1, 3, 5, 3, 1, 1, 1, 0, 3, 0, 4, 1, 4,\n",
       "       5, 0, 3, 2, 1, 4, 4, 4, 0, 0, 2, 5, 0, 3, 3, 4, 1, 4, 3, 3, 3, 4,\n",
       "       2, 1, 2, 2, 1, 3, 3, 4, 4, 2, 1, 1, 0, 0, 2, 4, 3, 5, 3, 2, 1, 0,\n",
       "       4, 1, 4, 4, 2, 0, 0, 5, 3, 1, 5, 5, 1, 5, 0, 4, 3, 5, 3, 4, 3, 4,\n",
       "       3, 0, 5, 3, 3, 1, 3, 5, 5, 4, 0, 3, 0, 0, 3, 1, 2, 3, 2, 3, 0, 3,\n",
       "       2, 0, 3, 1, 4, 3, 1, 2])"
      ]
     },
     "execution_count": 18,
     "metadata": {},
     "output_type": "execute_result"
    }
   ],
   "source": [
    "vet = np.random.randint(0,high = 6, size = 250)\n",
    "vet"
   ]
  },
  {
   "cell_type": "code",
   "execution_count": 19,
   "metadata": {},
   "outputs": [
    {
     "data": {
      "text/plain": [
       "array([43, 42, 34, 52, 44, 35])"
      ]
     },
     "execution_count": 19,
     "metadata": {},
     "output_type": "execute_result"
    }
   ],
   "source": [
    "num = np.bincount(vet)\n",
    "num"
   ]
  },
  {
   "cell_type": "code",
   "execution_count": 20,
   "metadata": {},
   "outputs": [
    {
     "data": {
      "image/png": "[encoded data removed]",
      "text/plain": [
       "<Figure size 432x288 with 1 Axes>"
      ]
     },
     "metadata": {
      "needs_background": "light"
     },
     "output_type": "display_data"
    }
   ],
   "source": [
    "bins_list = [0,1,2,3,4,5]\n",
    "plt.bar(bins_list,num,facecolor = 'darkturquoise',edgecolor = 'steelblue',align = 'center',width = 1)\n",
    "plt.xlabel('Crianças por apartamento',fontsize = 14)\n",
    "plt.savefig('histogramacriancas.png', transparent = True)"
   ]
  },
  {
   "cell_type": "code",
   "execution_count": 21,
   "metadata": {},
   "outputs": [
    {
     "data": {
      "text/plain": [
       "3.0"
      ]
     },
     "execution_count": 21,
     "metadata": {},
     "output_type": "execute_result"
    }
   ],
   "source": [
    "np.median(vet)"
   ]
  },
  {
   "cell_type": "code",
   "execution_count": 22,
   "metadata": {},
   "outputs": [
    {
     "data": {
      "text/plain": [
       "2.468"
      ]
     },
     "execution_count": 22,
     "metadata": {},
     "output_type": "execute_result"
    }
   ],
   "source": [
    "np.mean(vet)"
   ]
  },
  {
   "cell_type": "code",
   "execution_count": 23,
   "metadata": {},
   "outputs": [],
   "source": [
    "from scipy import stats"
   ]
  },
  {
   "cell_type": "code",
   "execution_count": 24,
   "metadata": {},
   "outputs": [
    {
     "data": {
      "text/plain": [
       "ModeResult(mode=array([3]), count=array([52]))"
      ]
     },
     "execution_count": 24,
     "metadata": {},
     "output_type": "execute_result"
    }
   ],
   "source": [
    "stats.mode(vet)"
   ]
  },
  {
   "cell_type": "code",
   "execution_count": null,
   "metadata": {},
   "outputs": [],
   "source": []
  }
 ],
 "metadata": {
  "kernelspec": {
   "display_name": "Python 3",
   "language": "python",
   "name": "python3"
  },
  "language_info": {
   "codemirror_mode": {
    "name": "ipython",
    "version": 3
   },
   "file_extension": ".py",
   "mimetype": "text/x-python",
   "name": "python",
   "nbconvert_exporter": "python",
   "pygments_lexer": "ipython3",
   "version": "3.7.4"
  },
  "toc": {
   "base_numbering": 1,
   "nav_menu": {},
   "number_sections": true,
   "sideBar": true,
   "skip_h1_title": false,
   "title_cell": "Table of Contents",
   "title_sidebar": "Contents",
   "toc_cell": false,
   "toc_position": {},
   "toc_section_display": true,
   "toc_window_display": false
  }
 },
 "nbformat": 4,
 "nbformat_minor": 2
}
