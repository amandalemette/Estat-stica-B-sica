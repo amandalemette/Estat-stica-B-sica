{
 "cells": [
  {
   "cell_type": "code",
   "execution_count": 2,
   "metadata": {
    "ExecuteTime": {
     "end_time": "2020-06-02T19:57:18.336778Z",
     "start_time": "2020-06-02T19:57:18.000808Z"
    }
   },
   "outputs": [],
   "source": [
    "import numpy as np\n",
    "import matplotlib.pyplot as plt\n",
    "from scipy import stats\n",
    "import pandas as pd\n",
    "%matplotlib inline"
   ]
  },
  {
   "cell_type": "code",
   "execution_count": 3,
   "metadata": {
    "ExecuteTime": {
     "end_time": "2020-06-02T19:57:19.202294Z",
     "start_time": "2020-06-02T19:57:19.199431Z"
    }
   },
   "outputs": [],
   "source": [
    "np.random.seed(0)"
   ]
  },
  {
   "cell_type": "code",
   "execution_count": 4,
   "metadata": {
    "ExecuteTime": {
     "end_time": "2020-06-02T19:57:19.957732Z",
     "start_time": "2020-06-02T19:57:19.952723Z"
    }
   },
   "outputs": [],
   "source": [
    "x = np.random.normal(3,1,1000)\n",
    "y = np.random.normal(50,10,1000)\n",
    "y2 = x"
   ]
  },
  {
   "cell_type": "code",
   "execution_count": 5,
   "metadata": {
    "ExecuteTime": {
     "end_time": "2020-06-02T19:57:21.265395Z",
     "start_time": "2020-06-02T19:57:21.087753Z"
    }
   },
   "outputs": [
    {
     "data": {
      "text/plain": [
       "Text(0, 0.5, 'y')"
      ]
     },
     "execution_count": 5,
     "metadata": {},
     "output_type": "execute_result"
    },
    {
     "data": {
      "image/png": "[encoded data removed]",
      "text/plain": [
       "<Figure size 432x288 with 1 Axes>"
      ]
     },
     "metadata": {
      "needs_background": "light"
     },
     "output_type": "display_data"
    }
   ],
   "source": [
    "plt.plot(x,y,'ko')\n",
    "plt.xlabel('x',fontsize = 14)\n",
    "plt.ylabel('y', fontsize = 14)\n"
   ]
  },
  {
   "cell_type": "code",
   "execution_count": 7,
   "metadata": {
    "ExecuteTime": {
     "end_time": "2020-06-02T19:57:24.985220Z",
     "start_time": "2020-06-02T19:57:24.824468Z"
    }
   },
   "outputs": [
    {
     "data": {
      "text/plain": [
       "Text(0, 0.5, 'y2')"
      ]
     },
     "execution_count": 7,
     "metadata": {},
     "output_type": "execute_result"
    },
    {
     "data": {
      "image/png": "[encoded data removed]",
      "text/plain": [
       "<Figure size 432x288 with 1 Axes>"
      ]
     },
     "metadata": {
      "needs_background": "light"
     },
     "output_type": "display_data"
    }
   ],
   "source": [
    "plt.plot(x,y2,'ko')\n",
    "plt.xlabel('x',fontsize = 14)\n",
    "plt.ylabel('y2', fontsize = 14)"
   ]
  },
  {
   "cell_type": "code",
   "execution_count": 8,
   "metadata": {
    "ExecuteTime": {
     "end_time": "2020-06-02T19:57:25.548663Z",
     "start_time": "2020-06-02T19:57:25.543687Z"
    }
   },
   "outputs": [
    {
     "data": {
      "text/plain": [
       "array([[ 0.97520967, -0.30139636],\n",
       "       [-0.30139636, 93.82720263]])"
      ]
     },
     "execution_count": 8,
     "metadata": {},
     "output_type": "execute_result"
    }
   ],
   "source": [
    "np.cov(x,y)"
   ]
  },
  {
   "cell_type": "code",
   "execution_count": 9,
   "metadata": {
    "ExecuteTime": {
     "end_time": "2020-06-02T19:57:26.292741Z",
     "start_time": "2020-06-02T19:57:26.288024Z"
    }
   },
   "outputs": [
    {
     "data": {
      "text/plain": [
       "array([[0.97520967, 0.97520967],\n",
       "       [0.97520967, 0.97520967]])"
      ]
     },
     "execution_count": 9,
     "metadata": {},
     "output_type": "execute_result"
    }
   ],
   "source": [
    "np.cov(x,y2)"
   ]
  },
  {
   "cell_type": "code",
   "execution_count": 10,
   "metadata": {
    "ExecuteTime": {
     "end_time": "2020-06-02T19:57:26.818882Z",
     "start_time": "2020-06-02T19:57:26.815347Z"
    }
   },
   "outputs": [],
   "source": [
    "def de_mean(x):\n",
    "    xmean = np.mean(x)\n",
    "    return [xi - xmean for xi in x]"
   ]
  },
  {
   "cell_type": "code",
   "execution_count": 11,
   "metadata": {
    "ExecuteTime": {
     "end_time": "2020-06-02T19:57:27.274838Z",
     "start_time": "2020-06-02T19:57:27.271624Z"
    }
   },
   "outputs": [],
   "source": [
    "def covariance(x,y):\n",
    "    n = len(x)\n",
    "    return np.dot(de_mean(x),de_mean(y))/(n-1)"
   ]
  },
  {
   "cell_type": "code",
   "execution_count": 12,
   "metadata": {
    "ExecuteTime": {
     "end_time": "2020-06-02T19:57:27.724948Z",
     "start_time": "2020-06-02T19:57:27.719767Z"
    }
   },
   "outputs": [
    {
     "data": {
      "text/plain": [
       "-0.30139636457206365"
      ]
     },
     "execution_count": 12,
     "metadata": {},
     "output_type": "execute_result"
    }
   ],
   "source": [
    "covariance(x,y)"
   ]
  },
  {
   "cell_type": "code",
   "execution_count": 13,
   "metadata": {
    "ExecuteTime": {
     "end_time": "2020-06-02T19:57:28.141934Z",
     "start_time": "2020-06-02T19:57:28.136845Z"
    }
   },
   "outputs": [
    {
     "data": {
      "text/plain": [
       "0.9752096659781325"
      ]
     },
     "execution_count": 13,
     "metadata": {},
     "output_type": "execute_result"
    }
   ],
   "source": [
    "covariance(x,y2)"
   ]
  },
  {
   "cell_type": "code",
   "execution_count": 14,
   "metadata": {
    "ExecuteTime": {
     "end_time": "2020-06-02T19:57:28.629289Z",
     "start_time": "2020-06-02T19:57:28.623859Z"
    }
   },
   "outputs": [
    {
     "data": {
      "text/plain": [
       "array([[ 1.        , -0.03150827],\n",
       "       [-0.03150827,  1.        ]])"
      ]
     },
     "execution_count": 14,
     "metadata": {},
     "output_type": "execute_result"
    }
   ],
   "source": [
    "np.corrcoef(x,y)"
   ]
  },
  {
   "cell_type": "code",
   "execution_count": 15,
   "metadata": {
    "ExecuteTime": {
     "end_time": "2020-06-02T19:57:29.126557Z",
     "start_time": "2020-06-02T19:57:29.120597Z"
    }
   },
   "outputs": [
    {
     "data": {
      "text/plain": [
       "array([[1., 1.],\n",
       "       [1., 1.]])"
      ]
     },
     "execution_count": 15,
     "metadata": {},
     "output_type": "execute_result"
    }
   ],
   "source": [
    "np.corrcoef(x,y2)"
   ]
  },
  {
   "cell_type": "code",
   "execution_count": 16,
   "metadata": {
    "ExecuteTime": {
     "end_time": "2020-06-02T19:57:29.564840Z",
     "start_time": "2020-06-02T19:57:29.561167Z"
    }
   },
   "outputs": [],
   "source": [
    "def correlation(x,y):\n",
    "    stddevx = np.std(x)\n",
    "    stddevy = np.std(y)\n",
    "    return covariance(x,y)/stddevx / stddevy"
   ]
  },
  {
   "cell_type": "code",
   "execution_count": 17,
   "metadata": {
    "ExecuteTime": {
     "end_time": "2020-06-02T19:57:30.100820Z",
     "start_time": "2020-06-02T19:57:30.095367Z"
    }
   },
   "outputs": [
    {
     "data": {
      "text/plain": [
       "-0.03153981477568808"
      ]
     },
     "execution_count": 17,
     "metadata": {},
     "output_type": "execute_result"
    }
   ],
   "source": [
    "correlation(x,y)"
   ]
  },
  {
   "cell_type": "code",
   "execution_count": 18,
   "metadata": {
    "ExecuteTime": {
     "end_time": "2020-06-02T19:57:30.493212Z",
     "start_time": "2020-06-02T19:57:30.487579Z"
    }
   },
   "outputs": [
    {
     "data": {
      "text/plain": [
       "1.001001001001001"
      ]
     },
     "execution_count": 18,
     "metadata": {},
     "output_type": "execute_result"
    }
   ],
   "source": [
    "correlation(x,y2)"
   ]
  },
  {
   "cell_type": "code",
   "execution_count": null,
   "metadata": {},
   "outputs": [],
   "source": []
  }
 ],
 "metadata": {
  "kernelspec": {
   "display_name": "Python 3",
   "language": "python",
   "name": "python3"
  },
  "language_info": {
   "codemirror_mode": {
    "name": "ipython",
    "version": 3
   },
   "file_extension": ".py",
   "mimetype": "text/x-python",
   "name": "python",
   "nbconvert_exporter": "python",
   "pygments_lexer": "ipython3",
   "version": "3.7.4"
  },
  "toc": {
   "base_numbering": 1,
   "nav_menu": {},
   "number_sections": true,
   "sideBar": true,
   "skip_h1_title": false,
   "title_cell": "Table of Contents",
   "title_sidebar": "Contents",
   "toc_cell": false,
   "toc_position": {},
   "toc_section_display": true,
   "toc_window_display": false
  }
 },
 "nbformat": 4,
 "nbformat_minor": 2
}
